{
 "cells": [
  {
   "cell_type": "markdown",
   "id": "9f92850c",
   "metadata": {},
   "source": [
    "# Autogen Installation\n"
   ]
  },
  {
   "cell_type": "markdown",
   "id": "b1a10e41",
   "metadata": {},
   "source": [
    "1. Create a venv\n",
    "2. Create a requirements.txt\n",
    "3. install \n",
    "   #### autogen-agentchat > AssistantAgent \n",
    "   (from autogen_agentchat.agents import AssistantAgent)\n",
    "   #### autogen-core >\n",
    "   #### autogen-ext > autogen_ext.models.openai\n",
    "   (from autogen_ext.models.openai import OpenAIChatCompletionClient)"
   ]
  },
  {
   "cell_type": "markdown",
   "id": "4067dc4c",
   "metadata": {},
   "source": [
    "# First Autogen Agent\n"
   ]
  },
  {
   "cell_type": "code",
   "execution_count": 14,
   "id": "688ca4fa",
   "metadata": {},
   "outputs": [],
   "source": [
    "from autogen_agentchat.agents import AssistantAgent\n",
    "from autogen_ext.models.openai import OpenAIChatCompletionClient\n",
    "from dotenv import load_dotenv\n",
    "import os\n",
    "\n",
    "load_dotenv()\n",
    "\n",
    "api_key = os.getenv('OPENAI_API_KEY')"
   ]
  },
  {
   "cell_type": "markdown",
   "id": "5933fdac",
   "metadata": {},
   "source": [
    "# Connecting to the Model"
   ]
  },
  {
   "cell_type": "code",
   "execution_count": 15,
   "id": "93e8ce47",
   "metadata": {},
   "outputs": [],
   "source": [
    "model_client = OpenAIChatCompletionClient(model='gpt-4o',api_key=api_key)\n"
   ]
  },
  {
   "cell_type": "code",
   "execution_count": 16,
   "id": "7237adda",
   "metadata": {},
   "outputs": [],
   "source": [
    "agent_1 = AssistantAgent(name='my_assistant',model_client=model_client)"
   ]
  },
  {
   "cell_type": "code",
   "execution_count": 21,
   "id": "68fd927d",
   "metadata": {},
   "outputs": [],
   "source": [
    "result = await agent_1.run(task='Tell me something about you?')"
   ]
  },
  {
   "cell_type": "code",
   "execution_count": 18,
   "id": "647be0d9",
   "metadata": {},
   "outputs": [
    {
     "name": "stdout",
     "output_type": "stream",
     "text": [
      "messages=[TextMessage(id='dcc181ed-5c55-4896-9082-cde8eca24160', source='user', models_usage=None, metadata={}, created_at=datetime.datetime(2025, 7, 10, 17, 31, 40, 719097, tzinfo=datetime.timezone.utc), content='Tell me something about you?', type='TextMessage'), TextMessage(id='fa08bbe9-19cc-4695-97fb-fa0cc265f7ee', source='my_assistant', models_usage=RequestUsage(prompt_tokens=42, completion_tokens=87), metadata={}, created_at=datetime.datetime(2025, 7, 10, 17, 31, 44, 117760, tzinfo=datetime.timezone.utc), content='Hello! I am an AI language model designed to assist with a wide range of queries by providing information, answering questions, and helping with problem-solving. I can handle tasks related to various subjects, including science, history, technology, and more. My goal is to assist you to the best of my abilities based on the data I have been trained on. If you have any specific questions or tasks, feel free to let me know!', type='TextMessage')] stop_reason=None\n"
     ]
    }
   ],
   "source": [
    "print(result)"
   ]
  },
  {
   "cell_type": "markdown",
   "id": "f4fed86c",
   "metadata": {},
   "source": [
    "messages=[TextMessage(id='dcc181ed-5c55-4896-9082-cde8eca24160', source='user', models_usage=None, metadata={}, created_at=datetime.datetime(2025, 7, 10, 17, 31, 40, 719097, tzinfo=datetime.timezone.utc), content='Tell me something about you?', type='TextMessage'), TextMessage(id='fa08bbe9-19cc-4695-97fb-fa0cc265f7ee', source='my_assistant', models_usage=RequestUsage(prompt_tokens=42, completion_tokens=87), metadata={}, created_at=datetime.datetime(2025, 7, 10, 17, 31, 44, 117760, tzinfo=datetime.timezone.utc), \n",
    "content='Hello! I am an AI language model designed to assist with a wide range of queries by providing information, answering questions, and helping with problem-solving. I can handle tasks related to various subjects, including science, history, technology, and more. My goal is to assist you to the best of my abilities based on the data I have been trained on. If you have any specific questions or tasks, feel free to let me know!', type='TextMessage')] stop_reason=None"
   ]
  },
  {
   "cell_type": "code",
   "execution_count": 22,
   "id": "484d9d3f",
   "metadata": {},
   "outputs": [],
   "source": [
    "result2 = await agent_1.run(task='What was my last question?')"
   ]
  },
  {
   "cell_type": "code",
   "execution_count": 23,
   "id": "b213a370",
   "metadata": {},
   "outputs": [
    {
     "data": {
      "text/plain": [
       "TaskResult(messages=[TextMessage(id='6f4d6139-0b0b-4f2c-91e3-a00fed434529', source='user', models_usage=None, metadata={}, created_at=datetime.datetime(2025, 7, 10, 17, 37, 1, 430010, tzinfo=datetime.timezone.utc), content='What was my last question?', type='TextMessage'), TextMessage(id='aa4899e5-b02a-4679-9d83-b2714dc66db5', source='my_assistant', models_usage=RequestUsage(prompt_tokens=307, completion_tokens=12), metadata={}, created_at=datetime.datetime(2025, 7, 10, 17, 37, 3, 37406, tzinfo=datetime.timezone.utc), content='Your last question was: \"Tell me something about you?\"', type='TextMessage')], stop_reason=None)"
      ]
     },
     "execution_count": 23,
     "metadata": {},
     "output_type": "execute_result"
    }
   ],
   "source": [
    "result2"
   ]
  },
  {
   "cell_type": "markdown",
   "id": "e6f63612",
   "metadata": {},
   "source": [
    "TaskResult(messages=[TextMessage(id='6f4d6139-0b0b-4f2c-91e3-a00fed434529', source='user', models_usage=None, metadata={}, created_at=datetime.datetime(2025, 7, 10, 17, 37, 1, 430010, tzinfo=datetime.timezone.utc), content='What was my last question?', type='TextMessage'), TextMessage(id='aa4899e5-b02a-4679-9d83-b2714dc66db5', source='my_assistant', models_usage=RequestUsage(prompt_tokens=307, completion_tokens=12), metadata={}, created_at=datetime.datetime(2025, 7, 10, 17, 37, 3, 37406, tzinfo=datetime.timezone.utc), content='Your last question was: \"Tell me something about you?\"', type='TextMessage')], stop_reason=None)"
   ]
  },
  {
   "cell_type": "code",
   "execution_count": null,
   "id": "bf6de196",
   "metadata": {},
   "outputs": [],
   "source": []
  }
 ],
 "metadata": {
  "kernelspec": {
   "display_name": "Python 3",
   "language": "python",
   "name": "python3"
  },
  "language_info": {
   "codemirror_mode": {
    "name": "ipython",
    "version": 3
   },
   "file_extension": ".py",
   "mimetype": "text/x-python",
   "name": "python",
   "nbconvert_exporter": "python",
   "pygments_lexer": "ipython3",
   "version": "3.11.13"
  }
 },
 "nbformat": 4,
 "nbformat_minor": 5
}
